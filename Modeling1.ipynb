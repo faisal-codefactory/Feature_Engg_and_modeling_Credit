{
 "cells": [
  {
   "attachments": {},
   "cell_type": "markdown",
   "metadata": {},
   "source": [
    "## Modeling"
   ]
  },
  {
   "attachments": {},
   "cell_type": "markdown",
   "metadata": {},
   "source": [
    "### Data Cleaning and Transformation"
   ]
  },
  {
   "cell_type": "code",
   "execution_count": 1,
   "metadata": {},
   "outputs": [],
   "source": [
    "import pandas as pd\n",
    "import numpy as np"
   ]
  },
  {
   "cell_type": "code",
   "execution_count": 2,
   "metadata": {},
   "outputs": [],
   "source": [
    "data_df = pd.read_csv('credit.csv')\n",
    "# Removing the unnecessary columns\n",
    "data_df = data_df.drop('Unnamed: 0',axis=1)  \n",
    "# This column can be used to estimate the  geography and other relevant details.\n",
    "# But in current form, It will not add much.\n",
    "data_df.drop('telephone', axis=1, inplace=True)"
   ]
  },
  {
   "cell_type": "code",
   "execution_count": 3,
   "metadata": {},
   "outputs": [
    {
     "name": "stdout",
     "output_type": "stream",
     "text": [
      "checking_balance \tfloat64 \t394\n",
      "months_loan_duration \tint64 \t0\n",
      "credit_history \tobject \t0\n",
      "purpose \tobject \t0\n",
      "amount \tint64 \t0\n",
      "savings_balance \tfloat64 \t183\n",
      "employment_length \tobject \t62\n",
      "installment_rate \tint64 \t0\n",
      "personal_status \tobject \t310\n",
      "other_debtors \tobject \t0\n",
      "residence_history \tobject \t130\n",
      "property \tobject \t0\n",
      "age \tint64 \t0\n",
      "installment_plan \tobject \t0\n",
      "housing \tobject \t0\n",
      "existing_credits \tint64 \t0\n",
      "default \tint64 \t0\n",
      "dependents \tint64 \t0\n",
      "foreign_worker \tobject \t0\n",
      "job \tobject \t0\n",
      "gender \tobject \t0\n"
     ]
    }
   ],
   "source": [
    "# Identification of types and missing values of columns\n",
    "for col in data_df.columns:\n",
    "    print(f\"{col} \\t{data_df[col].dtype} \\t{data_df[col].isnull().sum()}\")\n",
    "#print(data_df.dtypes)"
   ]
  },
  {
   "cell_type": "code",
   "execution_count": 4,
   "metadata": {},
   "outputs": [],
   "source": [
    "# will use this method to clean \"employment_length\" Col of Data frame\n",
    "def year_to_int ( mystr):\n",
    "    mystr = str(mystr)\n",
    "    year_split = mystr.split(\" \")\n",
    "    if (not year_split[0].startswith('nan')):\n",
    "        years = int(year_split[0])\n",
    "    else:\n",
    "        years =0    \n",
    "    return years \n",
    "\n",
    "# will use this method to clean the features of Data frame\n",
    "# \"Residence_history\" may be in months. so converting all entries to month can be beneficial.\n",
    "def month_to_int (mystr):\n",
    "    mystr = str(mystr)\n",
    "    if 'nan' in mystr:\n",
    "        months = 0      #missing is treated as zero.\n",
    "    elif 'month' in mystr:\n",
    "        year_split = mystr.split(\" \")\n",
    "        months = int(year_split[0])\n",
    "    else:\n",
    "        year_split = mystr.split(\" \")\n",
    "        months = int(year_split[0]) * 12\n",
    "    return months"
   ]
  },
  {
   "cell_type": "code",
   "execution_count": 5,
   "metadata": {},
   "outputs": [
    {
     "data": {
      "text/html": [
       "<div>\n",
       "<style scoped>\n",
       "    .dataframe tbody tr th:only-of-type {\n",
       "        vertical-align: middle;\n",
       "    }\n",
       "\n",
       "    .dataframe tbody tr th {\n",
       "        vertical-align: top;\n",
       "    }\n",
       "\n",
       "    .dataframe thead th {\n",
       "        text-align: right;\n",
       "    }\n",
       "</style>\n",
       "<table border=\"1\" class=\"dataframe\">\n",
       "  <thead>\n",
       "    <tr style=\"text-align: right;\">\n",
       "      <th></th>\n",
       "      <th>checking_balance</th>\n",
       "      <th>months_loan_duration</th>\n",
       "      <th>credit_history</th>\n",
       "      <th>purpose</th>\n",
       "      <th>amount</th>\n",
       "      <th>savings_balance</th>\n",
       "      <th>employment_length</th>\n",
       "      <th>installment_rate</th>\n",
       "      <th>personal_status</th>\n",
       "      <th>other_debtors</th>\n",
       "      <th>...</th>\n",
       "      <th>property</th>\n",
       "      <th>age</th>\n",
       "      <th>installment_plan</th>\n",
       "      <th>housing</th>\n",
       "      <th>existing_credits</th>\n",
       "      <th>default</th>\n",
       "      <th>dependents</th>\n",
       "      <th>foreign_worker</th>\n",
       "      <th>job</th>\n",
       "      <th>gender</th>\n",
       "    </tr>\n",
       "  </thead>\n",
       "  <tbody>\n",
       "    <tr>\n",
       "      <th>0</th>\n",
       "      <td>-43.0</td>\n",
       "      <td>6</td>\n",
       "      <td>critical</td>\n",
       "      <td>radio/tv</td>\n",
       "      <td>1169</td>\n",
       "      <td>NaN</td>\n",
       "      <td>13 years</td>\n",
       "      <td>4</td>\n",
       "      <td>single</td>\n",
       "      <td>none</td>\n",
       "      <td>...</td>\n",
       "      <td>real estate</td>\n",
       "      <td>67</td>\n",
       "      <td>none</td>\n",
       "      <td>own</td>\n",
       "      <td>2</td>\n",
       "      <td>0</td>\n",
       "      <td>1</td>\n",
       "      <td>yes</td>\n",
       "      <td>skilled employee</td>\n",
       "      <td>male</td>\n",
       "    </tr>\n",
       "    <tr>\n",
       "      <th>1</th>\n",
       "      <td>75.0</td>\n",
       "      <td>48</td>\n",
       "      <td>repaid</td>\n",
       "      <td>radio/tv</td>\n",
       "      <td>5951</td>\n",
       "      <td>89.0</td>\n",
       "      <td>2 years</td>\n",
       "      <td>2</td>\n",
       "      <td>NaN</td>\n",
       "      <td>none</td>\n",
       "      <td>...</td>\n",
       "      <td>real estate</td>\n",
       "      <td>22</td>\n",
       "      <td>none</td>\n",
       "      <td>own</td>\n",
       "      <td>1</td>\n",
       "      <td>1</td>\n",
       "      <td>1</td>\n",
       "      <td>yes</td>\n",
       "      <td>skilled employee</td>\n",
       "      <td>female</td>\n",
       "    </tr>\n",
       "    <tr>\n",
       "      <th>2</th>\n",
       "      <td>NaN</td>\n",
       "      <td>12</td>\n",
       "      <td>critical</td>\n",
       "      <td>education</td>\n",
       "      <td>2096</td>\n",
       "      <td>24.0</td>\n",
       "      <td>5 years</td>\n",
       "      <td>2</td>\n",
       "      <td>single</td>\n",
       "      <td>none</td>\n",
       "      <td>...</td>\n",
       "      <td>real estate</td>\n",
       "      <td>49</td>\n",
       "      <td>none</td>\n",
       "      <td>own</td>\n",
       "      <td>1</td>\n",
       "      <td>0</td>\n",
       "      <td>2</td>\n",
       "      <td>yes</td>\n",
       "      <td>unskilled resident</td>\n",
       "      <td>male</td>\n",
       "    </tr>\n",
       "    <tr>\n",
       "      <th>3</th>\n",
       "      <td>-32.0</td>\n",
       "      <td>42</td>\n",
       "      <td>repaid</td>\n",
       "      <td>furniture</td>\n",
       "      <td>7882</td>\n",
       "      <td>9.0</td>\n",
       "      <td>5 years</td>\n",
       "      <td>2</td>\n",
       "      <td>single</td>\n",
       "      <td>guarantor</td>\n",
       "      <td>...</td>\n",
       "      <td>building society savings</td>\n",
       "      <td>45</td>\n",
       "      <td>none</td>\n",
       "      <td>for free</td>\n",
       "      <td>1</td>\n",
       "      <td>0</td>\n",
       "      <td>2</td>\n",
       "      <td>yes</td>\n",
       "      <td>skilled employee</td>\n",
       "      <td>male</td>\n",
       "    </tr>\n",
       "    <tr>\n",
       "      <th>4</th>\n",
       "      <td>-23.0</td>\n",
       "      <td>24</td>\n",
       "      <td>delayed</td>\n",
       "      <td>car (new)</td>\n",
       "      <td>4870</td>\n",
       "      <td>43.0</td>\n",
       "      <td>3 years</td>\n",
       "      <td>3</td>\n",
       "      <td>single</td>\n",
       "      <td>none</td>\n",
       "      <td>...</td>\n",
       "      <td>unknown/none</td>\n",
       "      <td>53</td>\n",
       "      <td>none</td>\n",
       "      <td>for free</td>\n",
       "      <td>2</td>\n",
       "      <td>1</td>\n",
       "      <td>2</td>\n",
       "      <td>yes</td>\n",
       "      <td>skilled employee</td>\n",
       "      <td>male</td>\n",
       "    </tr>\n",
       "  </tbody>\n",
       "</table>\n",
       "<p>5 rows × 21 columns</p>\n",
       "</div>"
      ],
      "text/plain": [
       "   checking_balance  months_loan_duration credit_history    purpose  amount  \\\n",
       "0             -43.0                     6       critical   radio/tv    1169   \n",
       "1              75.0                    48         repaid   radio/tv    5951   \n",
       "2               NaN                    12       critical  education    2096   \n",
       "3             -32.0                    42         repaid  furniture    7882   \n",
       "4             -23.0                    24        delayed  car (new)    4870   \n",
       "\n",
       "   savings_balance employment_length  installment_rate personal_status  \\\n",
       "0              NaN          13 years                 4          single   \n",
       "1             89.0           2 years                 2             NaN   \n",
       "2             24.0           5 years                 2          single   \n",
       "3              9.0           5 years                 2          single   \n",
       "4             43.0           3 years                 3          single   \n",
       "\n",
       "  other_debtors  ...                  property age  installment_plan  \\\n",
       "0          none  ...               real estate  67              none   \n",
       "1          none  ...               real estate  22              none   \n",
       "2          none  ...               real estate  49              none   \n",
       "3     guarantor  ...  building society savings  45              none   \n",
       "4          none  ...              unknown/none  53              none   \n",
       "\n",
       "    housing existing_credits  default  dependents  foreign_worker  \\\n",
       "0       own                2        0           1             yes   \n",
       "1       own                1        1           1             yes   \n",
       "2       own                1        0           2             yes   \n",
       "3  for free                1        0           2             yes   \n",
       "4  for free                2        1           2             yes   \n",
       "\n",
       "                  job  gender  \n",
       "0    skilled employee    male  \n",
       "1    skilled employee  female  \n",
       "2  unskilled resident    male  \n",
       "3    skilled employee    male  \n",
       "4    skilled employee    male  \n",
       "\n",
       "[5 rows x 21 columns]"
      ]
     },
     "execution_count": 5,
     "metadata": {},
     "output_type": "execute_result"
    }
   ],
   "source": [
    "data_df.head(5)"
   ]
  },
  {
   "cell_type": "code",
   "execution_count": 8,
   "metadata": {},
   "outputs": [],
   "source": [
    "# Fill the missing values based on class means of \"default\" col values\n",
    "# Missing values for default = mean of 'checking balance' of default\n",
    "# Missing values for non-default = mean of 'checking balance' of non-default\n",
    "chk_bal_class_means = data_df.groupby('default')['checking_balance'].mean()\n",
    "sav_bal_class_means = data_df.groupby('default')['savings_balance'].mean()\n",
    "data_df['checking_balance'].fillna(value=data_df['default'].map(chk_bal_class_means), inplace=True) \n",
    "data_df['savings_balance'].fillna(value=data_df['default'].map(sav_bal_class_means), inplace=True)\n",
    "# apply aforementioned methods for cleaning\n",
    "data_df['personal_status'].fillna(value='missing', inplace=True)\n",
    "data_df['employment_length'] = data_df['employment_length'].apply(year_to_int)\n",
    "data_df['residence_history'] = data_df['residence_history'].apply(month_to_int)"
   ]
  },
  {
   "cell_type": "code",
   "execution_count": 10,
   "metadata": {},
   "outputs": [],
   "source": [
    "category_cols = ['credit_history','purpose', 'personal_status','property','other_debtors','property','installment_plan','housing','foreign_worker','job','gender']"
   ]
  },
  {
   "cell_type": "code",
   "execution_count": 12,
   "metadata": {},
   "outputs": [],
   "source": [
    "from sklearn.preprocessing import LabelEncoder\n",
    "# Encode category cols to numeric for use in classification\n",
    "def convert_cols_to_numeric (df, cols):\n",
    "    for col in cols:\n",
    "        le= LabelEncoder()\n",
    "        df[col] = le.fit_transform(df[col])\n",
    "    return df"
   ]
  },
  {
   "cell_type": "code",
   "execution_count": 13,
   "metadata": {},
   "outputs": [],
   "source": [
    "# Encode category cols to numeric for use in classification\n",
    "numeric_df = convert_cols_to_numeric(data_df, category_cols)"
   ]
  },
  {
   "cell_type": "code",
   "execution_count": 14,
   "metadata": {},
   "outputs": [
    {
     "data": {
      "text/html": [
       "<div>\n",
       "<style scoped>\n",
       "    .dataframe tbody tr th:only-of-type {\n",
       "        vertical-align: middle;\n",
       "    }\n",
       "\n",
       "    .dataframe tbody tr th {\n",
       "        vertical-align: top;\n",
       "    }\n",
       "\n",
       "    .dataframe thead th {\n",
       "        text-align: right;\n",
       "    }\n",
       "</style>\n",
       "<table border=\"1\" class=\"dataframe\">\n",
       "  <thead>\n",
       "    <tr style=\"text-align: right;\">\n",
       "      <th></th>\n",
       "      <th>checking_balance</th>\n",
       "      <th>months_loan_duration</th>\n",
       "      <th>credit_history</th>\n",
       "      <th>purpose</th>\n",
       "      <th>amount</th>\n",
       "      <th>savings_balance</th>\n",
       "      <th>employment_length</th>\n",
       "      <th>installment_rate</th>\n",
       "      <th>personal_status</th>\n",
       "      <th>other_debtors</th>\n",
       "      <th>...</th>\n",
       "      <th>property</th>\n",
       "      <th>age</th>\n",
       "      <th>installment_plan</th>\n",
       "      <th>housing</th>\n",
       "      <th>existing_credits</th>\n",
       "      <th>default</th>\n",
       "      <th>dependents</th>\n",
       "      <th>foreign_worker</th>\n",
       "      <th>job</th>\n",
       "      <th>gender</th>\n",
       "    </tr>\n",
       "  </thead>\n",
       "  <tbody>\n",
       "    <tr>\n",
       "      <th>0</th>\n",
       "      <td>-43.000000</td>\n",
       "      <td>6</td>\n",
       "      <td>0</td>\n",
       "      <td>7</td>\n",
       "      <td>1169</td>\n",
       "      <td>986.612022</td>\n",
       "      <td>13</td>\n",
       "      <td>4</td>\n",
       "      <td>3</td>\n",
       "      <td>2</td>\n",
       "      <td>...</td>\n",
       "      <td>2</td>\n",
       "      <td>67</td>\n",
       "      <td>1</td>\n",
       "      <td>1</td>\n",
       "      <td>2</td>\n",
       "      <td>0</td>\n",
       "      <td>1</td>\n",
       "      <td>1</td>\n",
       "      <td>1</td>\n",
       "      <td>1</td>\n",
       "    </tr>\n",
       "    <tr>\n",
       "      <th>1</th>\n",
       "      <td>75.000000</td>\n",
       "      <td>48</td>\n",
       "      <td>4</td>\n",
       "      <td>7</td>\n",
       "      <td>5951</td>\n",
       "      <td>89.000000</td>\n",
       "      <td>2</td>\n",
       "      <td>2</td>\n",
       "      <td>2</td>\n",
       "      <td>2</td>\n",
       "      <td>...</td>\n",
       "      <td>2</td>\n",
       "      <td>22</td>\n",
       "      <td>1</td>\n",
       "      <td>1</td>\n",
       "      <td>1</td>\n",
       "      <td>1</td>\n",
       "      <td>1</td>\n",
       "      <td>1</td>\n",
       "      <td>1</td>\n",
       "      <td>0</td>\n",
       "    </tr>\n",
       "    <tr>\n",
       "      <th>2</th>\n",
       "      <td>123.167614</td>\n",
       "      <td>12</td>\n",
       "      <td>0</td>\n",
       "      <td>4</td>\n",
       "      <td>2096</td>\n",
       "      <td>24.000000</td>\n",
       "      <td>5</td>\n",
       "      <td>2</td>\n",
       "      <td>3</td>\n",
       "      <td>2</td>\n",
       "      <td>...</td>\n",
       "      <td>2</td>\n",
       "      <td>49</td>\n",
       "      <td>1</td>\n",
       "      <td>1</td>\n",
       "      <td>1</td>\n",
       "      <td>0</td>\n",
       "      <td>2</td>\n",
       "      <td>1</td>\n",
       "      <td>3</td>\n",
       "      <td>1</td>\n",
       "    </tr>\n",
       "    <tr>\n",
       "      <th>3</th>\n",
       "      <td>-32.000000</td>\n",
       "      <td>42</td>\n",
       "      <td>4</td>\n",
       "      <td>5</td>\n",
       "      <td>7882</td>\n",
       "      <td>9.000000</td>\n",
       "      <td>5</td>\n",
       "      <td>2</td>\n",
       "      <td>3</td>\n",
       "      <td>1</td>\n",
       "      <td>...</td>\n",
       "      <td>0</td>\n",
       "      <td>45</td>\n",
       "      <td>1</td>\n",
       "      <td>0</td>\n",
       "      <td>1</td>\n",
       "      <td>0</td>\n",
       "      <td>2</td>\n",
       "      <td>1</td>\n",
       "      <td>1</td>\n",
       "      <td>1</td>\n",
       "    </tr>\n",
       "    <tr>\n",
       "      <th>4</th>\n",
       "      <td>-23.000000</td>\n",
       "      <td>24</td>\n",
       "      <td>1</td>\n",
       "      <td>1</td>\n",
       "      <td>4870</td>\n",
       "      <td>43.000000</td>\n",
       "      <td>3</td>\n",
       "      <td>3</td>\n",
       "      <td>3</td>\n",
       "      <td>2</td>\n",
       "      <td>...</td>\n",
       "      <td>3</td>\n",
       "      <td>53</td>\n",
       "      <td>1</td>\n",
       "      <td>0</td>\n",
       "      <td>2</td>\n",
       "      <td>1</td>\n",
       "      <td>2</td>\n",
       "      <td>1</td>\n",
       "      <td>1</td>\n",
       "      <td>1</td>\n",
       "    </tr>\n",
       "  </tbody>\n",
       "</table>\n",
       "<p>5 rows × 21 columns</p>\n",
       "</div>"
      ],
      "text/plain": [
       "   checking_balance  months_loan_duration  credit_history  purpose  amount  \\\n",
       "0        -43.000000                     6               0        7    1169   \n",
       "1         75.000000                    48               4        7    5951   \n",
       "2        123.167614                    12               0        4    2096   \n",
       "3        -32.000000                    42               4        5    7882   \n",
       "4        -23.000000                    24               1        1    4870   \n",
       "\n",
       "   savings_balance  employment_length  installment_rate  personal_status  \\\n",
       "0       986.612022                 13                 4                3   \n",
       "1        89.000000                  2                 2                2   \n",
       "2        24.000000                  5                 2                3   \n",
       "3         9.000000                  5                 2                3   \n",
       "4        43.000000                  3                 3                3   \n",
       "\n",
       "   other_debtors  ...  property  age  installment_plan  housing  \\\n",
       "0              2  ...         2   67                 1        1   \n",
       "1              2  ...         2   22                 1        1   \n",
       "2              2  ...         2   49                 1        1   \n",
       "3              1  ...         0   45                 1        0   \n",
       "4              2  ...         3   53                 1        0   \n",
       "\n",
       "   existing_credits  default  dependents  foreign_worker  job  gender  \n",
       "0                 2        0           1               1    1       1  \n",
       "1                 1        1           1               1    1       0  \n",
       "2                 1        0           2               1    3       1  \n",
       "3                 1        0           2               1    1       1  \n",
       "4                 2        1           2               1    1       1  \n",
       "\n",
       "[5 rows x 21 columns]"
      ]
     },
     "execution_count": 14,
     "metadata": {},
     "output_type": "execute_result"
    }
   ],
   "source": [
    "numeric_df.head(5)"
   ]
  },
  {
   "cell_type": "code",
   "execution_count": 15,
   "metadata": {},
   "outputs": [
    {
     "name": "stdout",
     "output_type": "stream",
     "text": [
      "credit_history       5\n",
      "purpose             10\n",
      "personal_status      4\n",
      "property             4\n",
      "other_debtors        3\n",
      "property             4\n",
      "installment_plan     3\n",
      "housing              3\n",
      "foreign_worker       2\n",
      "job                  4\n",
      "gender               2\n",
      "dtype: int64\n"
     ]
    }
   ],
   "source": [
    "# identify the unique values in category cols.\n",
    "# This info will be used to decide whether to apply z-score normalization or not on the col\n",
    "uniques = numeric_df[category_cols].apply(lambda x: x.nunique(), axis=0)\n",
    "print(uniques)"
   ]
  },
  {
   "cell_type": "code",
   "execution_count": 17,
   "metadata": {},
   "outputs": [
    {
     "name": "stdout",
     "output_type": "stream",
     "text": [
      "['checking_balance', 'months_loan_duration', 'amount', 'savings_balance', 'employment_length', 'installment_rate', 'residence_history', 'age', 'existing_credits', 'default', 'dependents']\n"
     ]
    }
   ],
   "source": [
    "numeric_cols_list = [col for col in numeric_df.columns if col not in category_cols]\n",
    "print(numeric_cols_list)"
   ]
  },
  {
   "cell_type": "code",
   "execution_count": 19,
   "metadata": {},
   "outputs": [
    {
     "name": "stdout",
     "output_type": "stream",
     "text": [
      "['checking_balance', 'months_loan_duration', 'amount', 'savings_balance', 'employment_length', 'residence_history', 'age']\n"
     ]
    }
   ],
   "source": [
    "# identify the cols which require z-score normalization.\n",
    "to_remove = ['dependents','default','existing_credits','installment_rate']\n",
    "scalable_cols = [item for item in numeric_cols_list if item not in to_remove]\n",
    "print(scalable_cols)"
   ]
  },
  {
   "cell_type": "code",
   "execution_count": 21,
   "metadata": {},
   "outputs": [],
   "source": [
    "from sklearn.preprocessing import StandardScaler\n",
    "scaler = StandardScaler()\n",
    "scaled = scaler.fit_transform(numeric_df[scalable_cols])\n",
    "numeric_df[scalable_cols] = scaled"
   ]
  },
  {
   "cell_type": "code",
   "execution_count": 23,
   "metadata": {},
   "outputs": [
    {
     "name": "stdout",
     "output_type": "stream",
     "text": [
      "20\n"
     ]
    }
   ],
   "source": [
    "# For separting data and target\n",
    "x_col_list = list(filter(lambda x: not x.startswith('default'),numeric_df.columns))\n",
    "print(len(x_col_list))"
   ]
  },
  {
   "cell_type": "code",
   "execution_count": 24,
   "metadata": {},
   "outputs": [
    {
     "name": "stdout",
     "output_type": "stream",
     "text": [
      "x_train: (900, 20), x_test: (100, 20), y_train: (900,), y_test:(100,)\n"
     ]
    }
   ],
   "source": [
    "from sklearn.model_selection import train_test_split\n",
    "Y = numeric_df['default'].values\n",
    "X = numeric_df[x_col_list].values\n",
    "\n",
    "x_train, x_test, y_train, y_test = train_test_split(X,Y, test_size= 0.1, random_state=47)\n",
    "print(f\"x_train: {x_train.shape}, x_test: {x_test.shape}, y_train: {y_train.shape}, y_test:{y_test.shape}\")"
   ]
  },
  {
   "attachments": {},
   "cell_type": "markdown",
   "metadata": {},
   "source": [
    "### Model Building"
   ]
  },
  {
   "cell_type": "code",
   "execution_count": 26,
   "metadata": {},
   "outputs": [
    {
     "name": "stdout",
     "output_type": "stream",
     "text": [
      "Accuracy: 0.79\n"
     ]
    }
   ],
   "source": [
    "from sklearn.ensemble import RandomForestClassifier\n",
    "from sklearn import metrics\n",
    "\n",
    "model = RandomForestClassifier ()\n",
    "model.fit(x_train,y_train)\n",
    "\n",
    "y_pred = model.predict(x_test)\n",
    "acc = metrics.accuracy_score(y_test, y_pred)\n",
    "print(f\"Accuracy: {acc}\")"
   ]
  },
  {
   "cell_type": "code",
   "execution_count": 28,
   "metadata": {},
   "outputs": [],
   "source": [
    "from sklearn.linear_model import LogisticRegression\n",
    "from sklearn.tree import DecisionTreeClassifier\n",
    "from sklearn.ensemble import RandomForestClassifier\n",
    "from sklearn.ensemble import GradientBoostingClassifier\n",
    "clf_name_list = ['Logistic Regression', 'Decision Tree', 'Random Forest', 'Grad Boost']\n",
    "clf_list = [LogisticRegression(), DecisionTreeClassifier(), RandomForestClassifier(), GradientBoostingClassifier() ]"
   ]
  },
  {
   "cell_type": "code",
   "execution_count": 31,
   "metadata": {},
   "outputs": [
    {
     "name": "stdout",
     "output_type": "stream",
     "text": [
      "Logistic Regression training took 0.01800847053527832\n",
      "Accuracy of Logistic Regression: 0.81\n",
      "******************************\n",
      "Decision Tree training took 0.0060007572174072266\n",
      "Accuracy of Decision Tree: 0.70\n",
      "******************************\n",
      "Random Forest training took 0.29697155952453613\n",
      "Accuracy of Random Forest: 0.80\n",
      "******************************\n",
      "Grad Boost training took 0.28000760078430176\n",
      "Accuracy of Grad Boost: 0.80\n",
      "******************************\n"
     ]
    }
   ],
   "source": [
    "from time import time\n",
    "for clf, name in zip(clf_list, clf_name_list):\n",
    "    tic = time()\n",
    "    clf.fit(x_train, y_train)\n",
    "    print(f'{name} training took {time()-tic}')\n",
    "    y_pred = clf.predict(x_test)\n",
    "    accuracy = metrics.accuracy_score(y_test, y_pred)\n",
    "    print(f\"Accuracy of {name}: {accuracy:.2f}\")\n",
    "    print(\"*\"*30)"
   ]
  },
  {
   "cell_type": "code",
   "execution_count": null,
   "metadata": {},
   "outputs": [],
   "source": []
  }
 ],
 "metadata": {
  "kernelspec": {
   "display_name": "mlchallenge",
   "language": "python",
   "name": "python3"
  },
  "language_info": {
   "codemirror_mode": {
    "name": "ipython",
    "version": 3
   },
   "file_extension": ".py",
   "mimetype": "text/x-python",
   "name": "python",
   "nbconvert_exporter": "python",
   "pygments_lexer": "ipython3",
   "version": "3.10.6"
  },
  "orig_nbformat": 4,
  "vscode": {
   "interpreter": {
    "hash": "b6d14758e5f9500d6833c8a36532a8249b3315070ef8b492f44f9ff93f0d7705"
   }
  }
 },
 "nbformat": 4,
 "nbformat_minor": 2
}
